{
 "cells": [
  {
   "cell_type": "code",
   "execution_count": 10,
   "metadata": {},
   "outputs": [
    {
     "name": "stdout",
     "output_type": "stream",
     "text": [
      "100\n",
      "(100+0j)\n",
      "True\n",
      "False\n",
      "100\n",
      "100\n"
     ]
    }
   ],
   "source": [
    "a=100\n",
    "b=float(a)\n",
    "c=complex(a)\n",
    "print(a)\n",
    "print(c)\n",
    "print(bool(a))\n",
    "print(bool(0))\n",
    "print(str(a))\n",
    "print(str(a))"
   ]
  },
  {
   "cell_type": "code",
   "execution_count": 18,
   "metadata": {},
   "outputs": [
    {
     "name": "stdout",
     "output_type": "stream",
     "text": [
      "50\n",
      "(50.5+0j)\n",
      "50.5\n",
      "True\n",
      "50.5\n"
     ]
    }
   ],
   "source": [
    "num=50.5\n",
    "print(int(num))\n",
    "print(complex(num))\n",
    "print(str(num))\n",
    "print(bool(num))\n",
    "print(str(num))"
   ]
  },
  {
   "cell_type": "code",
   "execution_count": 28,
   "metadata": {},
   "outputs": [
    {
     "name": "stdout",
     "output_type": "stream",
     "text": [
      "(1+3j)\n",
      "(1+3j)\n",
      "(1+3j)\n"
     ]
    }
   ],
   "source": [
    "v=1+3j\n",
    "print(v)\n",
    "print((str)(v))\n",
    "print((str)(v))\n"
   ]
  },
  {
   "cell_type": "code",
   "execution_count": 6,
   "metadata": {},
   "outputs": [
    {
     "name": "stdout",
     "output_type": "stream",
     "text": [
      "1234.0\n"
     ]
    }
   ],
   "source": [
    "st=\"1234\"\n",
    "print(float(st))"
   ]
  },
  {
   "cell_type": "code",
   "execution_count": 8,
   "metadata": {},
   "outputs": [
    {
     "name": "stdout",
     "output_type": "stream",
     "text": [
      "123456.8\n"
     ]
    }
   ],
   "source": [
    "st=\"123456.8\"\n",
    "print(float(st))"
   ]
  },
  {
   "cell_type": "code",
   "execution_count": 30,
   "metadata": {},
   "outputs": [
    {
     "name": "stdout",
     "output_type": "stream",
     "text": [
      "1\n",
      "1.0\n",
      "(1+0j)\n"
     ]
    }
   ],
   "source": [
    "flage=True\n",
    "print(int(flage))\n",
    "print(float(flage))\n",
    "print(complex(flage))"
   ]
  },
  {
   "cell_type": "code",
   "execution_count": 9,
   "metadata": {},
   "outputs": [
    {
     "name": "stdout",
     "output_type": "stream",
     "text": [
      "123.0\n"
     ]
    }
   ],
   "source": [
    "int=\"123\"\n",
    "print(float(int))"
   ]
  },
  {
   "cell_type": "code",
   "execution_count": 2,
   "metadata": {},
   "outputs": [
    {
     "name": "stdout",
     "output_type": "stream",
     "text": [
      "True\n"
     ]
    }
   ],
   "source": [
    "st=45\n",
    "print(bool(st))"
   ]
  },
  {
   "cell_type": "code",
   "execution_count": null,
   "metadata": {},
   "outputs": [],
   "source": []
  }
 ],
 "metadata": {
  "kernelspec": {
   "display_name": "Python 3",
   "language": "python",
   "name": "python3"
  },
  "language_info": {
   "codemirror_mode": {
    "name": "ipython",
    "version": 3
   },
   "file_extension": ".py",
   "mimetype": "text/x-python",
   "name": "python",
   "nbconvert_exporter": "python",
   "pygments_lexer": "ipython3",
   "version": "3.12.2"
  }
 },
 "nbformat": 4,
 "nbformat_minor": 2
}
